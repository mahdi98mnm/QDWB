{
 "cells": [
  {
   "cell_type": "code",
   "execution_count": 1,
   "metadata": {},
   "outputs": [],
   "source": [
    "# import qdwb\n",
    "# import ..qdwb.reference_evapotranspiration as et_ref\n",
    "# from .. import qdwb\n",
    "# from qdwb import *\n",
    "import importlib.util"
   ]
  },
  {
   "cell_type": "code",
   "execution_count": 2,
   "metadata": {},
   "outputs": [],
   "source": [
    "def module_from_file(module_name, file_path):\n",
    "    spec = importlib.util.spec_from_file_location(module_name, file_path)\n",
    "    module = importlib.util.module_from_spec(spec)\n",
    "    spec.loader.exec_module(module)\n",
    "    return module\n",
    "E = module_from_file(\"additional_func\", \"/home/mahdi/QDWB/qdwb/reference_evapotranspiration/additional_func.py\")"
   ]
  },
  {
   "cell_type": "markdown",
   "metadata": {},
   "source": [
    "caculate slope vapour pressure curve with temperature"
   ]
  },
  {
   "cell_type": "code",
   "execution_count": 12,
   "metadata": {},
   "outputs": [
    {
     "data": {
      "text/plain": [
       "0.04739111710514966"
      ]
     },
     "execution_count": 12,
     "metadata": {},
     "output_type": "execute_result"
    }
   ],
   "source": [
    "E.slope_vapour_pressure_curve_with_maen_temperature(\n",
    "    tmean = 1\n",
    ")"
   ]
  },
  {
   "cell_type": "markdown",
   "metadata": {},
   "source": [
    "caculate pressure with altitudes"
   ]
  },
  {
   "cell_type": "code",
   "execution_count": 13,
   "metadata": {},
   "outputs": [
    {
     "data": {
      "text/plain": [
       "81.75579640764421"
      ]
     },
     "execution_count": 13,
     "metadata": {},
     "output_type": "execute_result"
    }
   ],
   "source": [
    "E.pressure_with_altitudes(\n",
    "    altitude = 1800\n",
    ")"
   ]
  },
  {
   "cell_type": "markdown",
   "metadata": {},
   "source": [
    "calculate actual_vapour_pressure ----- page39 EX5 FAO56\n"
   ]
  },
  {
   "cell_type": "code",
   "execution_count": 4,
   "metadata": {},
   "outputs": [
    {
     "data": {
      "text/plain": [
       "1.7015355568176478"
      ]
     },
     "execution_count": 4,
     "metadata": {},
     "output_type": "execute_result"
    }
   ],
   "source": [
    "E.Actual_Vapour_Pressure.RH_and_T_max_min(tmax = 25, tmin = 18, RH_max = 82, RH_min = 54)"
   ]
  },
  {
   "cell_type": "code",
   "execution_count": 11,
   "metadata": {},
   "outputs": [
    {
     "data": {
      "text/plain": [
       "1.7788007528568932"
      ]
     },
     "execution_count": 11,
     "metadata": {},
     "output_type": "execute_result"
    }
   ],
   "source": [
    "E.Actual_Vapour_Pressure.RH_mean_T_max_min(tmax=25 , tmin=18 , RH_max=82 , RH_min=54)"
   ]
  },
  {
   "cell_type": "code",
   "execution_count": 12,
   "metadata": {},
   "outputs": [
    {
     "data": {
      "text/plain": [
       "1.7788007528568932"
      ]
     },
     "execution_count": 12,
     "metadata": {},
     "output_type": "execute_result"
    }
   ],
   "source": [
    "E.Actual_Vapour_Pressure.RH_mean_T_max_min(tmax=25 , tmin=18 , RH_mean=68)"
   ]
  },
  {
   "cell_type": "code",
   "execution_count": 13,
   "metadata": {},
   "outputs": [
    {
     "data": {
      "text/plain": [
       "1.7788007528568932"
      ]
     },
     "execution_count": 13,
     "metadata": {},
     "output_type": "execute_result"
    }
   ],
   "source": [
    "E.Actual_Vapour_Pressure.RH_mean_T_max_min(tmax=25 , tmin=18 , RH_max=82 , RH_min=40 , RH_mean=68)"
   ]
  },
  {
   "cell_type": "code",
   "execution_count": 14,
   "metadata": {},
   "outputs": [
    {
     "data": {
      "text/plain": [
       "1.9119359138798777"
      ]
     },
     "execution_count": 14,
     "metadata": {},
     "output_type": "execute_result"
    }
   ],
   "source": [
    "E.Actual_Vapour_Pressure.T_wet_T_dry(twet = 19.5 , tdry = 25.6 , a_psy = 0.000662 , altitude = 1200 )"
   ]
  },
  {
   "cell_type": "markdown",
   "metadata": {},
   "source": [
    "Clear-sky solar or clear-sky shortwave radiation ----- page62 EX16 FAO56"
   ]
  },
  {
   "cell_type": "code",
   "execution_count": 15,
   "metadata": {},
   "outputs": [
    {
     "data": {
      "text/plain": [
       "28.576524000000003"
      ]
     },
     "execution_count": 15,
     "metadata": {},
     "output_type": "execute_result"
    }
   ],
   "source": [
    "E.clear_sky_solar_or_clear_sky_shortwave_radiation(extraterrestrial_radiation = 38.1 , altitude = 2)"
   ]
  },
  {
   "cell_type": "markdown",
   "metadata": {},
   "source": [
    "extraterrestrial_radiation ----- page47 EX8 FAO56"
   ]
  },
  {
   "cell_type": "code",
   "execution_count": 3,
   "metadata": {},
   "outputs": [
    {
     "ename": "NameError",
     "evalue": "name 'SOLAR_CONSTANT' is not defined",
     "output_type": "error",
     "traceback": [
      "\u001b[0;31m---------------------------------------------------------------------------\u001b[0m",
      "\u001b[0;31mNameError\u001b[0m                                 Traceback (most recent call last)",
      "\u001b[1;32m/home/mahdi/QDWB/examples/test_additional_notebook.ipynb Cell 16\u001b[0m in \u001b[0;36m<cell line: 1>\u001b[0;34m()\u001b[0m\n\u001b[0;32m----> <a href='vscode-notebook-cell://wsl%2Bubuntu/home/mahdi/QDWB/examples/test_additional_notebook.ipynb#X21sdnNjb2RlLXJlbW90ZQ%3D%3D?line=0'>1</a>\u001b[0m E\u001b[39m.\u001b[39;49mextraterrestrial_radiation(\n\u001b[1;32m      <a href='vscode-notebook-cell://wsl%2Bubuntu/home/mahdi/QDWB/examples/test_additional_notebook.ipynb#X21sdnNjb2RlLXJlbW90ZQ%3D%3D?line=1'>2</a>\u001b[0m     inverse_relative_distance_earth_sun \u001b[39m=\u001b[39;49m \u001b[39m0.985\u001b[39;49m,\n\u001b[1;32m      <a href='vscode-notebook-cell://wsl%2Bubuntu/home/mahdi/QDWB/examples/test_additional_notebook.ipynb#X21sdnNjb2RlLXJlbW90ZQ%3D%3D?line=2'>3</a>\u001b[0m     sunset_hour_angle \u001b[39m=\u001b[39;49m \u001b[39m1.527\u001b[39;49m,\n\u001b[1;32m      <a href='vscode-notebook-cell://wsl%2Bubuntu/home/mahdi/QDWB/examples/test_additional_notebook.ipynb#X21sdnNjb2RlLXJlbW90ZQ%3D%3D?line=3'>4</a>\u001b[0m     latitude \u001b[39m=\u001b[39;49m\u001b[39m-\u001b[39;49m\u001b[39m0.35\u001b[39;49m,\n\u001b[1;32m      <a href='vscode-notebook-cell://wsl%2Bubuntu/home/mahdi/QDWB/examples/test_additional_notebook.ipynb#X21sdnNjb2RlLXJlbW90ZQ%3D%3D?line=4'>5</a>\u001b[0m     solar_declination \u001b[39m=\u001b[39;49m\u001b[39m0.120\u001b[39;49m\n\u001b[1;32m      <a href='vscode-notebook-cell://wsl%2Bubuntu/home/mahdi/QDWB/examples/test_additional_notebook.ipynb#X21sdnNjb2RlLXJlbW90ZQ%3D%3D?line=5'>6</a>\u001b[0m )\n",
      "File \u001b[0;32m~/QDWB/qdwb/reference_evapotranspiration/additional_func.py:301\u001b[0m, in \u001b[0;36mextraterrestrial_radiation\u001b[0;34m(inverse_relative_distance_earth_sun, sunset_hour_angle, latitude, solar_declination)\u001b[0m\n\u001b[1;32m    273\u001b[0m \u001b[39mdef\u001b[39;00m \u001b[39mextraterrestrial_radiation\u001b[39m(\n\u001b[1;32m    274\u001b[0m     inverse_relative_distance_earth_sun : \u001b[39mfloat\u001b[39m,\n\u001b[1;32m    275\u001b[0m     sunset_hour_angle : \u001b[39mfloat\u001b[39m,\n\u001b[1;32m    276\u001b[0m     latitude : \u001b[39mfloat\u001b[39m,\n\u001b[1;32m    277\u001b[0m     solar_declination : \u001b[39mfloat\u001b[39m\n\u001b[1;32m    278\u001b[0m ) \u001b[39m-\u001b[39m\u001b[39m>\u001b[39m \u001b[39mfloat\u001b[39m:\n\u001b[1;32m    280\u001b[0m     \u001b[39m\"\"\"\u001b[39;00m\n\u001b[1;32m    281\u001b[0m \u001b[39m    Description\u001b[39;00m\n\u001b[1;32m    282\u001b[0m \u001b[39m    -----------\u001b[39;00m\n\u001b[0;32m   (...)\u001b[0m\n\u001b[1;32m    298\u001b[0m \u001b[39m        Extraterrestrial Radiation in MJ/m**2/day\u001b[39;00m\n\u001b[1;32m    299\u001b[0m \u001b[39m    \"\"\"\u001b[39;00m\n\u001b[0;32m--> 301\u001b[0m     temp_1 \u001b[39m=\u001b[39m ((\u001b[39m24\u001b[39m \u001b[39m*\u001b[39m \u001b[39m60\u001b[39m )\u001b[39m/\u001b[39m math\u001b[39m.\u001b[39mpi) \u001b[39m*\u001b[39m SOLAR_CONSTANT \u001b[39m*\u001b[39m inverse_relative_distance_earth_sun\n\u001b[1;32m    303\u001b[0m     temp_2 \u001b[39m=\u001b[39m sunset_hour_angle \u001b[39m*\u001b[39m math\u001b[39m.\u001b[39msin(latitude) \u001b[39m*\u001b[39m math\u001b[39m.\u001b[39msin(solar_declination)\n\u001b[1;32m    305\u001b[0m     temp_3 \u001b[39m=\u001b[39m math\u001b[39m.\u001b[39mcos(latitude)\u001b[39m*\u001b[39m math\u001b[39m.\u001b[39mcos(solar_declination) \u001b[39m*\u001b[39m math\u001b[39m.\u001b[39msin(sunset_hour_angle)\n",
      "\u001b[0;31mNameError\u001b[0m: name 'SOLAR_CONSTANT' is not defined"
     ]
    }
   ],
   "source": [
    "E.extraterrestrial_radiation(\n",
    "    inverse_relative_distance_earth_sun = 0.985,\n",
    "    sunset_hour_angle = 1.527,\n",
    "    latitude =-0.35,\n",
    "    solar_declination =0.120\n",
    ")"
   ]
  }
 ],
 "metadata": {
  "kernelspec": {
   "display_name": "Python 3.8.10 64-bit",
   "language": "python",
   "name": "python3"
  },
  "language_info": {
   "codemirror_mode": {
    "name": "ipython",
    "version": 3
   },
   "file_extension": ".py",
   "mimetype": "text/x-python",
   "name": "python",
   "nbconvert_exporter": "python",
   "pygments_lexer": "ipython3",
   "version": "3.8.10"
  },
  "orig_nbformat": 4,
  "vscode": {
   "interpreter": {
    "hash": "916dbcbb3f70747c44a77c7bcd40155683ae19c65e1c03b4aa3499c5328201f1"
   }
  }
 },
 "nbformat": 4,
 "nbformat_minor": 2
}
