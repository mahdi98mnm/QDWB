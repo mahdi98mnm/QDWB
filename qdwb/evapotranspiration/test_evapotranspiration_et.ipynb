{
 "cells": [
  {
   "cell_type": "markdown",
   "metadata": {},
   "source": [
    "Calculate Reference evapotranspiration hargreaves samani"
   ]
  },
  {
   "cell_type": "code",
   "execution_count": null,
   "metadata": {},
   "outputs": [],
   "source": [
    "from et import *\n",
    "ReferenceEvapotranspiration.hargreaves_samani(\n",
    "    tmin=28, \n",
    "    tmean=35, \n",
    "    tmax=38, \n",
    "    ra=38.93715\n",
    ")"
   ]
  },
  {
   "cell_type": "markdown",
   "metadata": {},
   "source": [
    "Calculate Reference evapotranspiration fao56 penman monteith - page 72 ,EX18 "
   ]
  },
  {
   "cell_type": "code",
   "execution_count": 3,
   "metadata": {},
   "outputs": [
    {
     "data": {
      "text/plain": [
       "3.884336278719094"
      ]
     },
     "execution_count": 3,
     "metadata": {},
     "output_type": "execute_result"
    }
   ],
   "source": [
    "ReferenceEvapotranspiration.fao56_penman_monteith(\n",
    "    delta=0.122,\n",
    "    rn=13.28,\n",
    "    G=0.0,\n",
    "    gamma=0.066,\n",
    "    tmean=16.9,\n",
    "    u2=2.078,\n",
    "    es=1.997,\n",
    "    ea=1.409\n",
    ")"
   ]
  },
  {
   "cell_type": "markdown",
   "metadata": {},
   "source": [
    "Calculate Reference evapotranspiration fao56 penman monteith - page 70 ,EX17 "
   ]
  },
  {
   "cell_type": "code",
   "execution_count": 4,
   "metadata": {},
   "outputs": [
    {
     "data": {
      "text/plain": [
       "5.713380333629949"
      ]
     },
     "execution_count": 4,
     "metadata": {},
     "output_type": "execute_result"
    }
   ],
   "source": [
    "ReferenceEvapotranspiration.fao56_penman_monteith(\n",
    "    delta=0.246,\n",
    "    rn=14.33,\n",
    "    G=0.14,\n",
    "    gamma=0.0674,\n",
    "    tmean=30.2,\n",
    "    u2=2.0,\n",
    "    es=4.42,\n",
    "    ea=2.85\n",
    ")"
   ]
  }
 ],
 "metadata": {
  "kernelspec": {
   "display_name": "Python 3.8.10 64-bit",
   "language": "python",
   "name": "python3"
  },
  "language_info": {
   "codemirror_mode": {
    "name": "ipython",
    "version": 3
   },
   "file_extension": ".py",
   "mimetype": "text/x-python",
   "name": "python",
   "nbconvert_exporter": "python",
   "pygments_lexer": "ipython3",
   "version": "3.8.10"
  },
  "orig_nbformat": 4,
  "vscode": {
   "interpreter": {
    "hash": "916dbcbb3f70747c44a77c7bcd40155683ae19c65e1c03b4aa3499c5328201f1"
   }
  }
 },
 "nbformat": 4,
 "nbformat_minor": 2
}
